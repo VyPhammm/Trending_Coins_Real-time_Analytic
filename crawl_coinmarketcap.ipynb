{
 "cells": [
  {
   "cell_type": "code",
   "execution_count": 1,
   "metadata": {},
   "outputs": [],
   "source": [
    "import requests\n",
    "from bs4 import BeautifulSoup\n",
    "import os\n",
    "import pandas as pd \n",
    "import re\n",
    "import datetime\n",
    "import time\n",
    "import json\n",
    "from datetime import datetime"
   ]
  },
  {
   "cell_type": "code",
   "execution_count": 5,
   "metadata": {},
   "outputs": [
    {
     "name": "stdout",
     "output_type": "stream",
     "text": [
      "2023-07-24 00:40:41\n"
     ]
    }
   ],
   "source": [
    "a= datetime.now().strftime('%Y-%m-%d %H:%M:%S')\n",
    "print(a)"
   ]
  },
  {
   "cell_type": "code",
   "execution_count": 3,
   "metadata": {},
   "outputs": [],
   "source": [
    "result = requests.get('https://coinmarketcap.com/trending-cryptocurrencies/')"
   ]
  },
  {
   "cell_type": "code",
   "execution_count": 4,
   "metadata": {},
   "outputs": [],
   "source": [
    "content = result.text"
   ]
  },
  {
   "cell_type": "code",
   "execution_count": 5,
   "metadata": {},
   "outputs": [],
   "source": [
    "soup = BeautifulSoup(content, \"html\")"
   ]
  },
  {
   "cell_type": "code",
   "execution_count": 42,
   "metadata": {},
   "outputs": [],
   "source": [
    "list_coin = soup.find(\"tbody\").find_all(\"tr\")"
   ]
  },
  {
   "cell_type": "code",
   "execution_count": 86,
   "metadata": {},
   "outputs": [
    {
     "name": "stdout",
     "output_type": "stream",
     "text": [
      "[{'No': 0, 'Name': 'Arkham', 'Symbol': 'ARKM', 'Price': '$0.5834', '24h_%': -8.08, '7d_%': -21.96, '30d_%': -21.96, 'Market_cap': 87515766, 'Volume_24h': 23063484}, {'No': 1, 'Name': 'BarnBridge', 'Symbol': 'BOND', 'Price': '$2.87', '24h_%': '0.25%', '7d_%': -4.91, '30d_%': -17.7, 'Market_cap': 22728866, 'Volume_24h': 1614866}, {'No': 2, 'Name': 'WhiteBIT Token', 'Symbol': 'WBT', 'Price': '$5.53', '24h_%': '0.03%', '7d_%': -0.38, '30d_%': '11.47%', 'Market_cap': 341574428, 'Volume_24h': 7936292}, {'No': 3, 'Name': 'XRP', 'Symbol': 'XRP', 'Price': '$0.7406', '24h_%': -3.45, '7d_%': -3.93, '30d_%': '48.77%', 'Market_cap': 38913250282, 'Volume_24h': 1850506038}, {'No': 4, 'Name': 'Bitcoin', 'Symbol': 'BTC', 'Price': '$29,902.97', '24h_%': -0.02, '7d_%': -1.6, '30d_%': -4.23, 'Market_cap': 581224910808, 'Volume_24h': 7853714993}, {'No': 5, 'Name': 'Wrapped Alvey Chain', 'Symbol': 'WALV', 'Price': '$0.04146', '24h_%': -0.36, '7d_%': -3.27, '30d_%': '44.49%', 'Market_cap': 3460616, 'Volume_24h': 1606608}, {'No': 6, 'Name': 'Pepe', 'Symbol': 'PEPE', 'Price': '$0.000001495', '24h_%': -1.94, '7d_%': -8.1, '30d_%': -12.69, 'Market_cap': 585620596, 'Volume_24h': 44367161}, {'No': 7, 'Name': 'Kaspa', 'Symbol': 'KAS', 'Price': '$0.03885', '24h_%': '5.30%', '7d_%': '30.56%', '30d_%': '41.84%', 'Market_cap': 768666448, 'Volume_24h': 38264640}, {'No': 8, 'Name': 'Terra Classic', 'Symbol': 'LUNC', 'Price': '$0.00008646', '24h_%': -3.44, '7d_%': -4.97, '30d_%': -6.89, 'Market_cap': 502289086, 'Volume_24h': 24855516}, {'No': 9, 'Name': '1inch Network', 'Symbol': '1INCH', 'Price': '$0.3268', '24h_%': -2.09, '7d_%': -22.26, '30d_%': '3.10%', 'Market_cap': 332741687, 'Volume_24h': 36314107}, {'No': 10, 'Name': 'r/CryptoCurrency Moons', 'Symbol': 'MOON', 'Price': '$0.4389', '24h_%': -2.49, '7d_%': '369.90%', '30d_%': '296.53%', 'Market_cap': 46867597, 'Volume_24h': 685421}, {'No': 11, 'Name': 'Stellar', 'Symbol': 'XLM', 'Price': '$0.1548', '24h_%': -4.82, '7d_%': '14.47%', '30d_%': '73.53%', 'Market_cap': 4214133112, 'Volume_24h': 217004618}, {'No': 12, 'Name': 'WINkLink', 'Symbol': 'WIN', 'Price': '$0.00007004', '24h_%': -0.74, '7d_%': -1.1, '30d_%': '0.08%', 'Market_cap': 67364391, 'Volume_24h': 4882792}, {'No': 13, 'Name': 'Sui', 'Symbol': 'SUI', 'Price': '$0.6833', '24h_%': -0.89, '7d_%': -0.84, '30d_%': -17.02, 'Market_cap': 447277399, 'Volume_24h': 62143820}, {'No': 14, 'Name': 'Polygon', 'Symbol': 'MATIC', 'Price': '$0.7493', '24h_%': -1.84, '7d_%': -5.07, '30d_%': '9.50%', 'Market_cap': 6983127610, 'Volume_24h': 202415755}, {'No': 15, 'Name': 'Ethereum', 'Symbol': 'ETH', 'Price': '$1,873.98', '24h_%': -0.81, '7d_%': -3.29, '30d_%': -2.21, 'Market_cap': 225240784010, 'Volume_24h': 4280845982}, {'No': 16, 'Name': 'Shiba Inu', 'Symbol': 'SHIB', 'Price': '$0.000007829', '24h_%': '0.32%', '7d_%': -2.58, '30d_%': -2.03, 'Market_cap': 4614111049, 'Volume_24h': 56974257}, {'No': 17, 'Name': 'Arbitrum', 'Symbol': 'ARB', 'Price': '$1.24', '24h_%': -0.44, '7d_%': -4.03, '30d_%': '8.25%', 'Market_cap': 1577492492, 'Volume_24h': 103690249}, {'No': 18, 'Name': 'Status', 'Symbol': 'SNT', 'Price': '$0.02582', '24h_%': '0.07%', '7d_%': -3.16, '30d_%': '12.05%', 'Market_cap': 99550633, 'Volume_24h': 2657800}, {'No': 19, 'Name': 'Monero', 'Symbol': 'XMR', 'Price': '$165.96', '24h_%': '2.18%', '7d_%': '0.78%', '30d_%': '8.49%', 'Market_cap': 3038599102, 'Volume_24h': 98194622}, {'No': 20, 'Name': 'Aragon', 'Symbol': 'ANT', 'Price': '$4.14', '24h_%': -2.68, '7d_%': -3.62, '30d_%': -6.26, 'Market_cap': 165611229, 'Volume_24h': 4580496}, {'No': 21, 'Name': 'WOO Network', 'Symbol': 'WOO', 'Price': '$0.2112', '24h_%': -1.2, '7d_%': -7.98, '30d_%': -5.1, 'Market_cap': 363985984, 'Volume_24h': 5158306}, {'No': 22, 'Name': 'BitDAO', 'Symbol': 'BIT', 'Price': '$0.5661', '24h_%': -2.05, '7d_%': '6.20%', '30d_%': '31.12%', 'Market_cap': 1043721150, 'Volume_24h': 61961}, {'No': 23, 'Name': 'Neo', 'Symbol': 'NEO', 'Price': '$9.07', '24h_%': -3.62, '7d_%': -2.3, '30d_%': -0.63, 'Market_cap': 639720781, 'Volume_24h': 30320350}, {'No': 24, 'Name': 'BitTorrent(New)', 'Symbol': 'BTT', 'Price': '$0.0...04764', '24h_%': -0.42, '7d_%': '0.18%', '30d_%': -1.22, 'Market_cap': 453253946, 'Volume_24h': 12604120}, {'No': 25, 'Name': 'STEPN', 'Symbol': 'GMT', 'Price': '$0.2264', '24h_%': -1.29, '7d_%': -3.66, '30d_%': -1.21, 'Market_cap': 250272501, 'Volume_24h': 23651361}, {'No': 26, 'Name': 'Biconomy', 'Symbol': 'BICO', 'Price': '$0.2329', '24h_%': '0.05%', '7d_%': '0.41%', '30d_%': -11.29, 'Market_cap': 140401175, 'Volume_24h': 2843236}, {'No': 27, 'Name': 'GateToken', 'Symbol': 'GT', 'Price': '$4.20', '24h_%': -0.23, '7d_%': -3.43, '30d_%': -2.34, 'Market_cap': 409956734, 'Volume_24h': 480118}, {'No': 28, 'Name': 'Basic Attention Token', 'Symbol': 'BAT', 'Price': '$0.2074', '24h_%': '1.56%', '7d_%': -0.63, '30d_%': '8.70%', 'Market_cap': 309049863, 'Volume_24h': 23377903}, {'No': 29, 'Name': 'Horizen', 'Symbol': 'ZEN', 'Price': '$9.31', '24h_%': '8.73%', '7d_%': '13.76%', '30d_%': '34.81%', 'Market_cap': 129753597, 'Volume_24h': 22725487}]\n"
     ]
    }
   ],
   "source": [
    "trending_coin = []\n",
    "for coin in list_coin :\n",
    "    name = coin.find_all(\"td\")[2].find_all('div')[1].find('p').get_text()\n",
    "    symbol = coin.find_all(\"td\")[2].find_all('div')[2].find('p').get_text()\n",
    "    price = coin.find_all(\"td\")[3].get_text()\n",
    "    h24h =  coin.find_all(\"td\")[4].find_all('span')[0].get_text()\n",
    "    ud_24h = coin.find_all(\"td\")[4].find_all('span')[1].attrs.get('class')[0].split('-')[2]\n",
    "    d7d = coin.find_all(\"td\")[5].find_all('span')[0].get_text()\n",
    "    ud_7d = coin.find_all(\"td\")[5].find_all('span')[1].attrs.get('class')[0].split('-')[2]\n",
    "    d30d = coin.find_all(\"td\")[6].find_all('span')[0].get_text()\n",
    "    ud_30d = coin.find_all(\"td\")[6].find_all('span')[1].attrs.get('class')[0].split('-')[2]\n",
    "    market_cap = int(coin.find_all(\"td\")[7].get_text().replace(\"$\", \"\").replace(\",\", \"\"))\n",
    "    vol24h = int(coin.find_all(\"td\")[8].get_text().replace(\"$\", \"\").replace(\",\", \"\"))\n",
    "    if ud_24h == \"down\":\n",
    "        h24h = float(h24h.split('%')[0])* (-1)\n",
    "    if ud_7d == \"down\":\n",
    "        d7d = float(d7d.split('%')[0])* (-1)\n",
    "    if ud_30d == \"down\":\n",
    "        d30d = float(d30d.split('%')[0])* (-1)\n",
    "\n",
    "    coin_info = {\"No\":list_coin.index(coin), \"Name\":name, \"Symbol\":symbol,\"Price\":price, \"24h_%\":h24h, \"7d_%\":d7d \\\n",
    "                ,\"30d_%\":d30d, \"Market_cap\": market_cap, \"Volume_24h\": vol24h}\n",
    "    trending_coin.append(coin_info)\n",
    "print(trending_coin)\n",
    "\n",
    "\n",
    "    \n",
    "\n",
    "\n",
    "\n",
    "\n",
    "    \n"
   ]
  },
  {
   "cell_type": "code",
   "execution_count": null,
   "metadata": {},
   "outputs": [],
   "source": [
    "{'No': 0, 'Name': 'Arkham', 'Symbol': 'ARKM', 'Price': '$0.5834', '24h': '8.08%', '7d': '21.96%', '30d': '21.96%', 'Market cap': '$87,515,766', 'Volume 24h': '$23,063,484'"
   ]
  }
 ],
 "metadata": {
  "kernelspec": {
   "display_name": "Python 3",
   "language": "python",
   "name": "python3"
  },
  "language_info": {
   "codemirror_mode": {
    "name": "ipython",
    "version": 3
   },
   "file_extension": ".py",
   "mimetype": "text/x-python",
   "name": "python",
   "nbconvert_exporter": "python",
   "pygments_lexer": "ipython3",
   "version": "3.11.3"
  },
  "orig_nbformat": 4
 },
 "nbformat": 4,
 "nbformat_minor": 2
}
