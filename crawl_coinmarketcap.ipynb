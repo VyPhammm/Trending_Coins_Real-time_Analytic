{
 "cells": [
  {
   "cell_type": "code",
   "execution_count": 1,
   "metadata": {},
   "outputs": [],
   "source": [
    "import requests\n",
    "from bs4 import BeautifulSoup\n",
    "import os\n",
    "import pandas as pd \n",
    "import re\n",
    "import datetime\n",
    "import time\n",
    "import json\n",
    "from datetime import datetime"
   ]
  },
  {
   "cell_type": "code",
   "execution_count": 2,
   "metadata": {},
   "outputs": [
    {
     "name": "stdout",
     "output_type": "stream",
     "text": [
      "2023-07-24 18:42:36\n"
     ]
    }
   ],
   "source": [
    "a= datetime.now().strftime('%Y-%m-%d %H:%M:%S')\n",
    "print(a)"
   ]
  },
  {
   "cell_type": "code",
   "execution_count": 3,
   "metadata": {},
   "outputs": [],
   "source": [
    "result = requests.get('https://coinmarketcap.com/trending-cryptocurrencies/')"
   ]
  },
  {
   "cell_type": "code",
   "execution_count": 4,
   "metadata": {},
   "outputs": [],
   "source": [
    "content = result.text"
   ]
  },
  {
   "cell_type": "code",
   "execution_count": 5,
   "metadata": {},
   "outputs": [],
   "source": [
    "soup = BeautifulSoup(content, \"html\")"
   ]
  },
  {
   "cell_type": "code",
   "execution_count": 6,
   "metadata": {},
   "outputs": [],
   "source": [
    "list_coin = soup.find(\"tbody\").find_all(\"tr\")"
   ]
  },
  {
   "cell_type": "code",
   "execution_count": 7,
   "metadata": {},
   "outputs": [],
   "source": [
    "def crawl_trending_coin():\n",
    "    trending_coin = []\n",
    "    list_coin = soup.find(\"tbody\").find_all(\"tr\")\n",
    "    for coin in list_coin :\n",
    "        time = datetime.now().strftime('%Y-%m-%d %H:%M:%S')\n",
    "        name = coin.find_all(\"td\")[2].find_all('div')[1].find('p').get_text()\n",
    "        symbol = coin.find_all(\"td\")[2].find_all('div')[2].find('p').get_text()\n",
    "        price = coin.find_all(\"td\")[3].get_text()\n",
    "        h24h =  coin.find_all(\"td\")[4].find_all('span')[0].get_text()\n",
    "        ud_24h = coin.find_all(\"td\")[4].find_all('span')[1].attrs.get('class')[0].split('-')[2]\n",
    "        d7d = coin.find_all(\"td\")[5].find_all('span')[0].get_text()\n",
    "        ud_7d = coin.find_all(\"td\")[5].find_all('span')[1].attrs.get('class')[0].split('-')[2]\n",
    "        d30d = coin.find_all(\"td\")[6].find_all('span')[0].get_text()\n",
    "        ud_30d = coin.find_all(\"td\")[6].find_all('span')[1].attrs.get('class')[0].split('-')[2]\n",
    "        market_cap = int(coin.find_all(\"td\")[7].get_text().replace(\"$\", \"\").replace(\",\", \"\"))\n",
    "        vol24h = int(coin.find_all(\"td\")[8].get_text().replace(\"$\", \"\").replace(\",\", \"\"))\n",
    "        if ud_24h == \"down\":\n",
    "            h24h = float(h24h.split('%')[0])* (-1)\n",
    "        if ud_7d == \"down\":\n",
    "            d7d = float(d7d.split('%')[0])* (-1)\n",
    "        if ud_30d == \"down\":\n",
    "            d30d = float(d30d.split('%')[0])* (-1)\n",
    "        coin_info = {\"No\":list_coin.index(coin), \"Name\":name, \"Symbol\":symbol,\"Price\":price, \"24h_%\":h24h, \"7d_%\":d7d \\\n",
    "                    ,\"30d_%\":d30d, \"Market_cap\": market_cap, \"Volume_24h\": vol24h, \"Time\": time}\n",
    "        trending_coin.append(coin_info)\n",
    "    return trending_coin"
   ]
  },
  {
   "cell_type": "code",
   "execution_count": 8,
   "metadata": {},
   "outputs": [
    {
     "name": "stdout",
     "output_type": "stream",
     "text": [
      "[{'No': 0, 'Name': 'Arkham', 'Symbol': 'ARKM', 'Price': '$0.55', '24h_%': -7.73, '7d_%': -26.44, '30d_%': -26.44, 'Market_cap': 82499892, 'Volume_24h': 29902337, 'Time': '2023-07-24 18:42:59'}, {'No': 1, 'Name': 'BarnBridge', 'Symbol': 'BOND', 'Price': '$2.75', '24h_%': -3.52, '7d_%': -6.28, '30d_%': -22.11, 'Market_cap': 21769860, 'Volume_24h': 2051141, 'Time': '2023-07-24 18:42:59'}, {'No': 2, 'Name': 'WhiteBIT Token', 'Symbol': 'WBT', 'Price': '$5.56', '24h_%': '0.69%', '7d_%': '0.37%', '30d_%': '10.73%', 'Market_cap': 343373388, 'Volume_24h': 12546259, 'Time': '2023-07-24 18:42:59'}, {'No': 3, 'Name': 'XRP', 'Symbol': 'XRP', 'Price': '$0.6959', '24h_%': -6.4, '7d_%': -5.96, '30d_%': '41.28%', 'Market_cap': 36564936847, 'Volume_24h': 1824400222, 'Time': '2023-07-24 18:42:59'}, {'No': 4, 'Name': 'Bitcoin', 'Symbol': 'BTC', 'Price': '$29,252.95', '24h_%': -2.19, '7d_%': -3.18, '30d_%': -4.7, 'Market_cap': 568612065362, 'Volume_24h': 13006864325, 'Time': '2023-07-24 18:42:59'}, {'No': 5, 'Name': 'Wrapped Alvey Chain', 'Symbol': 'WALV', 'Price': '$0.04044', '24h_%': -3.92, '7d_%': '3.60%', '30d_%': '41.37%', 'Market_cap': 3375334, 'Volume_24h': 1537222, 'Time': '2023-07-24 18:42:59'}, {'No': 6, 'Name': 'Pepe', 'Symbol': 'PEPE', 'Price': '$0.000001368', '24h_%': -8.54, '7d_%': -12.2, '30d_%': -17.73, 'Market_cap': 535880264, 'Volume_24h': 88138010, 'Time': '2023-07-24 18:42:59'}, {'No': 7, 'Name': 'Kaspa', 'Symbol': 'KAS', 'Price': '$0.03761', '24h_%': -0.28, '7d_%': '15.11%', '30d_%': '47.61%', 'Market_cap': 744518578, 'Volume_24h': 28808147, 'Time': '2023-07-24 18:42:59'}, {'No': 8, 'Name': 'Terra Classic', 'Symbol': 'LUNC', 'Price': '$0.00008207', '24h_%': -5.25, '7d_%': -13.23, '30d_%': -12.32, 'Market_cap': 476693686, 'Volume_24h': 30521908, 'Time': '2023-07-24 18:42:59'}, {'No': 9, 'Name': '1inch Network', 'Symbol': '1INCH', 'Price': '$0.3053', '24h_%': -6.77, '7d_%': -33.3, '30d_%': -6.32, 'Market_cap': 310907804, 'Volume_24h': 48735526, 'Time': '2023-07-24 18:42:59'}, {'No': 10, 'Name': 'r/CryptoCurrency Moons', 'Symbol': 'MOON', 'Price': '$0.3576', '24h_%': -19.36, '7d_%': '99.78%', '30d_%': '230.51%', 'Market_cap': 38187483, 'Volume_24h': 487032, 'Time': '2023-07-24 18:42:59'}, {'No': 11, 'Name': 'Stellar', 'Symbol': 'XLM', 'Price': '$0.1468', '24h_%': -6.11, '7d_%': '15.73%', '30d_%': '61.71%', 'Market_cap': 3995500831, 'Volume_24h': 201751271, 'Time': '2023-07-24 18:42:59'}, {'No': 12, 'Name': 'WINkLink', 'Symbol': 'WIN', 'Price': '$0.00006794', '24h_%': -3.31, '7d_%': -3.15, '30d_%': -2.39, 'Market_cap': 65341043, 'Volume_24h': 5259134, 'Time': '2023-07-24 18:42:59'}, {'No': 13, 'Name': 'Sui', 'Symbol': 'SUI', 'Price': '$0.6285', '24h_%': -8.73, '7d_%': -8.5, '30d_%': -18.69, 'Market_cap': 411390711, 'Volume_24h': 91384370, 'Time': '2023-07-24 18:42:59'}, {'No': 14, 'Name': 'Polygon', 'Symbol': 'MATIC', 'Price': '$0.7261', '24h_%': -3.46, '7d_%': -5.88, '30d_%': '6.97%', 'Market_cap': 6767085311, 'Volume_24h': 252780361, 'Time': '2023-07-24 18:42:59'}, {'No': 15, 'Name': 'Ethereum', 'Symbol': 'ETH', 'Price': '$1,852.30', '24h_%': -1.23, '7d_%': -3.33, '30d_%': -2.07, 'Market_cap': 222635052920, 'Volume_24h': 5727192651, 'Time': '2023-07-24 18:42:59'}, {'No': 16, 'Name': 'Shiba Inu', 'Symbol': 'SHIB', 'Price': '$0.000007748', '24h_%': -1.28, '7d_%': -1.17, '30d_%': -2.91, 'Market_cap': 4566307593, 'Volume_24h': 116064063, 'Time': '2023-07-24 18:42:59'}, {'No': 17, 'Name': 'Arbitrum', 'Symbol': 'ARB', 'Price': '$1.20', '24h_%': -3.11, '7d_%': -7.68, '30d_%': '8.11%', 'Market_cap': 1528889181, 'Volume_24h': 179998549, 'Time': '2023-07-24 18:42:59'}, {'No': 18, 'Name': 'Status', 'Symbol': 'SNT', 'Price': '$0.02475', '24h_%': -4.17, '7d_%': -2.02, '30d_%': '5.97%', 'Market_cap': 95431335, 'Volume_24h': 2831357, 'Time': '2023-07-24 18:42:59'}, {'No': 19, 'Name': 'Monero', 'Symbol': 'XMR', 'Price': '$162.10', '24h_%': -1.79, '7d_%': -1.67, '30d_%': '4.19%', 'Market_cap': 2967983685, 'Volume_24h': 99780412, 'Time': '2023-07-24 18:42:59'}, {'No': 20, 'Name': 'Aragon', 'Symbol': 'ANT', 'Price': '$3.94', '24h_%': -5.81, '7d_%': -9.15, '30d_%': -6.34, 'Market_cap': 157621618, 'Volume_24h': 8263701, 'Time': '2023-07-24 18:42:59'}, {'No': 21, 'Name': 'WOO Network', 'Symbol': 'WOO', 'Price': '$0.2027', '24h_%': -3.81, '7d_%': -11.04, '30d_%': -3.14, 'Market_cap': 349288595, 'Volume_24h': 7197655, 'Time': '2023-07-24 18:42:59'}, {'No': 22, 'Name': 'BitDAO', 'Symbol': 'BIT', 'Price': '$0.5656', '24h_%': '0.05%', '7d_%': '10.38%', '30d_%': '32.20%', 'Market_cap': 1042856149, 'Volume_24h': 211796, 'Time': '2023-07-24 18:42:59'}, {'No': 23, 'Name': 'Neo', 'Symbol': 'NEO', 'Price': '$8.77', '24h_%': -3.45, '7d_%': -3.28, '30d_%': -4.14, 'Market_cap': 618622883, 'Volume_24h': 32663643, 'Time': '2023-07-24 18:42:59'}, {'No': 24, 'Name': 'BitTorrent(New)', 'Symbol': 'BTT', 'Price': '$0.0...04722', '24h_%': -0.98, '7d_%': -0.29, '30d_%': -1.94, 'Market_cap': 449299481, 'Volume_24h': 11973906, 'Time': '2023-07-24 18:42:59'}, {'No': 25, 'Name': 'STEPN', 'Symbol': 'GMT', 'Price': '$0.213', '24h_%': -6.1, '7d_%': -16.26, '30d_%': -9.34, 'Market_cap': 235484631, 'Volume_24h': 31825406, 'Time': '2023-07-24 18:42:59'}, {'No': 26, 'Name': 'Biconomy', 'Symbol': 'BICO', 'Price': '$0.2225', '24h_%': -4.68, '7d_%': -4.29, '30d_%': -14.74, 'Market_cap': 134159132, 'Volume_24h': 3233334, 'Time': '2023-07-24 18:42:59'}, {'No': 27, 'Name': 'GateToken', 'Symbol': 'GT', 'Price': '$4.16', '24h_%': -1.05, '7d_%': -3.18, '30d_%': -3.51, 'Market_cap': 406521826, 'Volume_24h': 807892, 'Time': '2023-07-24 18:42:59'}, {'No': 28, 'Name': 'Basic Attention Token', 'Symbol': 'BAT', 'Price': '$0.1976', '24h_%': -4.36, '7d_%': -9.49, '30d_%': -0.94, 'Market_cap': 294407757, 'Volume_24h': 26328940, 'Time': '2023-07-24 18:42:59'}, {'No': 29, 'Name': 'Horizen', 'Symbol': 'ZEN', 'Price': '$9.04', '24h_%': -2.29, '7d_%': '12.65%', '30d_%': '28.47%', 'Market_cap': 126020005, 'Volume_24h': 20257687, 'Time': '2023-07-24 18:42:59'}]\n"
     ]
    }
   ],
   "source": [
    "a = crawl_trending_coin()\n",
    "print(a)"
   ]
  },
  {
   "cell_type": "code",
   "execution_count": null,
   "metadata": {},
   "outputs": [],
   "source": []
  }
 ],
 "metadata": {
  "kernelspec": {
   "display_name": "Python 3",
   "language": "python",
   "name": "python3"
  },
  "language_info": {
   "codemirror_mode": {
    "name": "ipython",
    "version": 3
   },
   "file_extension": ".py",
   "mimetype": "text/x-python",
   "name": "python",
   "nbconvert_exporter": "python",
   "pygments_lexer": "ipython3",
   "version": "3.11.3"
  },
  "orig_nbformat": 4
 },
 "nbformat": 4,
 "nbformat_minor": 2
}
